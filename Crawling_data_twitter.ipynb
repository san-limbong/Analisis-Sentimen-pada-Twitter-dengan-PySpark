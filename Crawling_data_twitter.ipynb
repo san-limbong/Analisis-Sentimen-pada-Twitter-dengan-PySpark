{
  "nbformat": 4,
  "nbformat_minor": 0,
  "metadata": {
    "colab": {
      "provenance": []
    },
    "kernelspec": {
      "name": "python3",
      "display_name": "Python 3"
    },
    "language_info": {
      "name": "python"
    }
  },
  "cells": [
    {
      "cell_type": "code",
      "execution_count": null,
      "metadata": {
        "id": "E6bY2diz5Tqk"
      },
      "outputs": [],
      "source": [
        "import tweepy\n",
        "from tweepy import OAuthHandler\n",
        "import pandas as pd\n",
        "import re"
      ]
    },
    {
      "cell_type": "code",
      "source": [
        "#Twitter API credentials\n",
        "consumer_key = 'xxxx'\n",
        "consumer_secret = 'xxxx'\n",
        "access_key = 'xxxx'\n",
        "access_secret = 'xxxx'"
      ],
      "metadata": {
        "id": "cSMCSOcwuoZP"
      },
      "execution_count": null,
      "outputs": []
    },
    {
      "cell_type": "code",
      "source": [
        "auth = tweepy.OAuthHandler(consumer_key, consumer_secret)\n",
        "auth.set_access_token(access_key, access_secret)\n",
        "api = tweepy.API(auth,wait_on_rate_limit=True)"
      ],
      "metadata": {
        "id": "aWdl0vUg5aiV"
      },
      "execution_count": null,
      "outputs": []
    },
    {
      "cell_type": "code",
      "source": [
        "def crawltweets(search_tweet, n_tweets=500):\n",
        "    data_tweets = pd.DataFrame(columns=['Date', 'Tweet'])\n",
        "    tweets = tweepy.Cursor(api.search_tweets, q=search_tweet, lang=\"en\", tweet_mode='extended').items(n_tweets)\n",
        "    url_pattern = re.compile(r'http\\S+|www\\S+')\n",
        "    \n",
        "    for tweet in tweets:\n",
        "        Date = tweet.created_at\n",
        "        try:\n",
        "            Tweet = tweet.retweeted_status.full_text\n",
        "        except AttributeError:\n",
        "            Tweet = tweet.full_text\n",
        "        if not bool(url_pattern.search(Tweet)):\n",
        "            ith_tweet = [Date, Tweet]\n",
        "            data_tweets.loc[len(data_tweets)] = ith_tweet\n",
        "    data_tweets = data_tweets.drop_duplicates(subset='Tweet', keep='first')\n",
        "    for index, tweet in enumerate(data_tweets['Tweet']):\n",
        "      if index == 20:\n",
        "          break\n",
        "      print(tweet)\n",
        "    print('Crawling is Done =', len(data_tweets))\n",
        "    namafile = 'recession.csv'\n",
        "    data_tweets.to_csv(namafile, index=False)\n",
        "\n",
        "\n",
        "search_tweet = \"recession\"\n",
        "crawltweets(search_tweet)"
      ],
      "metadata": {
        "id": "3JAylota5ako",
        "colab": {
          "base_uri": "https://localhost:8080/"
        },
        "outputId": "e5637547-be20-4122-bace-e15d5edce209"
      },
      "execution_count": null,
      "outputs": [
        {
          "output_type": "stream",
          "name": "stdout",
          "text": [
            "\"Mild recession is already here,\" Elon Musk has said. \"Further rate hikes will trigger severe recession. Mark my words.\"\n",
            "@penguineas Blame Rafi too for the 2023 global recession 😒\n",
            "Investors who believe the #Fed will succeed in reducing annual price increase to 2% don't understand #inflation. The current financial crisis will worsen, ushering in a severe #recession, which will ultimately result in a U.S. dollar crash, that will send consumer prices soaring.\n",
            "Food stamp application REJECTED! That shit Soo irritating cause how tf yall gone tell me i can feed 4 kids &amp; pay bills during a recession\n",
            "@supertanskiii Rishi wishes he can have this kind of speech… but no, he’ll have to write some bs about why UK is not going into recession\n",
            "@TonyHussein4 THIS IS WHAT REPUBLICANS  BELIEVE IS MAKING AMERICA  GREAT A DEPRESSION  OR RECESSION,OR TAKING AWAY BENEFITS  THAT AMERICANS  HAVE HAD MONEY TAKEN OUT OF EVERY PAY CHECK THEY HAVE EVER WORKED FOR.....BUT DON'T  TAX  THE  RICHES PEOPLE , WHO PAY LESS THAN MIDDLE AMERICA TAXPAYER\n",
            "4/ When you listen to corporate execs talk about their business the last 3 months (which I do, I confess, while I walk the dogs in the morning), you don't hear signals of recession.\n",
            "\n",
            "FYI: Kelloggs also says one of its strongest businesses in the US is…Pringles. We love Pringles!\n",
            "@lolitataub Use that money to sustain and get the growth .\n",
            "Once there’s growth a lot of investors can put in their money even if the whole world is in recession\n",
            "i like how we’ll probably have a recession so holding assets is probably a bad idea, but the banks are failing so holding cash is probably a bad idea \n",
            "\n",
            "solution seems to be to not have money\n",
            "congrats to $SHOP   The fun and games comes to end when rates normalize and a potential recession is looming. Smart moves all around.\n",
            "@laurchas22 AMEN!! The former senior pastor at my church got the entire summer off for years. He even took a sabbatical during the recession of 2008-09 when many in the church were losing their jobs. He took off when 3 elders left the church over his leadership issues. Just tone deaf.\n",
            "@LHSummers @federalreserve @DavidWestin @BloombergTV Fed data has too much latency. Mild recession is already here. \n",
            "\n",
            "It’s not like just the canary in the coal mine (SVB) died, one of the staunchest miners (Credit Suisse) died too &amp; the cemetery is filling up fast!\n",
            "\n",
            "Further rate hikes will trigger severe recession. Mark my words.\n",
            "@neilazous @real_bill_gross Does the market forces the fed show via slowdown in economic activity, recession, or inflation plummeting and turning negative, or both?\n",
            "@SouthernValue95 it's going to $10 or lower. their assets are down 1.8 billion year over year while liabilities continue to grow. Burning cash, macro about to get even worse as recession hits, content (NFL  and Champions league) costs are increasing this year. Theatrical will be much worse.\n",
            "@SenWarren Recession my ass borrowers know interest rates will not come down for kong time they will still borrow to keep from getting a rate hike on their loan a fixed rate will be best instead of fluctuating rates.\n",
            "In a few weeks, the federal government will run out of money. We won’t be able to pay our bills. \n",
            "\n",
            "If this happens, we will go into default for the first time in our history. \n",
            "\n",
            "It will cause a major recession, millions of jobs will be lost, and trigger a global financial crisis.\n",
            "3/ US consumer sentiment &amp; spending can turn on a dime.\n",
            "\n",
            "But we're not trading down from Frosted Flakes &amp; Pop Tarts — or new cars that cost $50,000 each.\n",
            "\n",
            "We like our Frosted Flakes so much, we're buying more, even as the price edges up.\n",
            "\n",
            "That recession we keep talking about…?\n",
            "Also maybe take into account we are heading into recession, people have died who used to come in, and people in general have less spending money like be fr\n",
            "The Fed has never forecast a recession.  \n",
            "\n",
            "There’s no upside for them.  \n",
            "\n",
            "And…the Fed has something even sell-side analysts don’t have… Seasonal adjustments!\n",
            "\n",
            "The Fed can lie with statistics to keep us placated longer while they go about their work.\n",
            "Republicans are so concerned with our deficit that: \n",
            "- it grew every year under Trump's Presidency\n",
            "- grew to highest level under Trump since WWII\n",
            "- voted against Biden budgets which lowered the deficit\n",
            "\n",
            "Rs care about one thing - creating a recession so Biden loses.  That's it.\n",
            "Crawling is Done = 128\n"
          ]
        }
      ]
    },
    {
      "cell_type": "code",
      "source": [],
      "metadata": {
        "id": "IOipke1OEPIM"
      },
      "execution_count": null,
      "outputs": []
    }
  ]
}